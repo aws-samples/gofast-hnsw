{
 "cells": [
  {
   "cell_type": "code",
   "execution_count": 309,
   "metadata": {},
   "outputs": [
    {
     "name": "stdout",
     "output_type": "stream",
     "text": [
      "WARNING: pip is being invoked by an old script wrapper. This will fail in a future version of pip.\n",
      "Please see https://github.com/pypa/pip/issues/5599 for advice on fixing the underlying issue.\n",
      "To avoid this problem you can invoke Python with '-m pip' instead of running pip directly.\n",
      "Defaulting to user installation because normal site-packages is not writeable\n",
      "Requirement already satisfied: pandas in /Library/Python/3.8/site-packages (1.2.5)\n",
      "Requirement already satisfied: plotly in /Library/Python/3.8/site-packages (5.10.0)\n",
      "Requirement already satisfied: matplotlib in /Library/Python/3.8/site-packages (3.6.0)\n",
      "Requirement already satisfied: kaleido in /Library/Python/3.8/site-packages (0.2.1)\n",
      "Requirement already satisfied: nbformat in /Library/Python/3.8/site-packages (5.7.0)\n",
      "Requirement already satisfied: statsmodels in /Users/bennydee/Library/Python/3.8/lib/python/site-packages (0.14.0)\n",
      "Requirement already satisfied: python-dateutil>=2.7.3 in /Users/bennydee/Library/Python/3.8/lib/python/site-packages (from pandas) (2.8.2)\n",
      "Requirement already satisfied: pytz>=2017.3 in /Library/Python/3.8/site-packages (from pandas) (2021.1)\n",
      "Requirement already satisfied: numpy>=1.16.5 in /Users/bennydee/Library/Python/3.8/lib/python/site-packages (from pandas) (1.23.5)\n",
      "Requirement already satisfied: tenacity>=6.2.0 in /Library/Python/3.8/site-packages (from plotly) (8.1.0)\n",
      "Requirement already satisfied: contourpy>=1.0.1 in /Library/Python/3.8/site-packages (from matplotlib) (1.0.5)\n",
      "Requirement already satisfied: cycler>=0.10 in /Library/Python/3.8/site-packages (from matplotlib) (0.11.0)\n",
      "Requirement already satisfied: fonttools>=4.22.0 in /Library/Python/3.8/site-packages (from matplotlib) (4.37.4)\n",
      "Requirement already satisfied: kiwisolver>=1.0.1 in /Library/Python/3.8/site-packages (from matplotlib) (1.4.4)\n",
      "Requirement already satisfied: packaging>=20.0 in /Library/Python/3.8/site-packages (from matplotlib) (21.3)\n",
      "Requirement already satisfied: pillow>=6.2.0 in /Library/Python/3.8/site-packages (from matplotlib) (9.2.0)\n",
      "Requirement already satisfied: pyparsing>=2.2.1 in /Library/Python/3.8/site-packages (from matplotlib) (3.0.9)\n",
      "Requirement already satisfied: fastjsonschema in /Library/Python/3.8/site-packages (from nbformat) (2.16.2)\n",
      "Requirement already satisfied: jsonschema>=2.6 in /Library/Python/3.8/site-packages (from nbformat) (4.16.0)\n",
      "Requirement already satisfied: jupyter-core in /Library/Python/3.8/site-packages (from nbformat) (4.11.2)\n",
      "Requirement already satisfied: traitlets>=5.1 in /Library/Python/3.8/site-packages (from nbformat) (5.5.0)\n",
      "Requirement already satisfied: scipy!=1.9.2,>=1.4 in /Users/bennydee/Library/Python/3.8/lib/python/site-packages (from statsmodels) (1.9.1)\n",
      "Requirement already satisfied: patsy>=0.5.2 in /Users/bennydee/Library/Python/3.8/lib/python/site-packages (from statsmodels) (0.5.3)\n",
      "Requirement already satisfied: attrs>=17.4.0 in /Library/Python/3.8/site-packages (from jsonschema>=2.6->nbformat) (22.1.0)\n",
      "Requirement already satisfied: importlib-resources>=1.4.0 in /Library/Python/3.8/site-packages (from jsonschema>=2.6->nbformat) (5.10.0)\n",
      "Requirement already satisfied: pkgutil-resolve-name>=1.3.10 in /Library/Python/3.8/site-packages (from jsonschema>=2.6->nbformat) (1.3.10)\n",
      "Requirement already satisfied: pyrsistent!=0.17.0,!=0.17.1,!=0.17.2,>=0.14.0 in /Library/Python/3.8/site-packages (from jsonschema>=2.6->nbformat) (0.18.1)\n",
      "Requirement already satisfied: six in /Users/bennydee/Library/Python/3.8/lib/python/site-packages (from patsy>=0.5.2->statsmodels) (1.16.0)\n",
      "Requirement already satisfied: zipp>=3.1.0 in /Library/Python/3.8/site-packages (from importlib-resources>=1.4.0->jsonschema>=2.6->nbformat) (3.9.0)\n",
      "\n",
      "\u001b[1m[\u001b[0m\u001b[34;49mnotice\u001b[0m\u001b[1;39;49m]\u001b[0m\u001b[39;49m A new release of pip is available: \u001b[0m\u001b[31;49m23.1.2\u001b[0m\u001b[39;49m -> \u001b[0m\u001b[32;49m23.2.1\u001b[0m\n",
      "\u001b[1m[\u001b[0m\u001b[34;49mnotice\u001b[0m\u001b[1;39;49m]\u001b[0m\u001b[39;49m To update, run: \u001b[0m\u001b[32;49m/Library/Developer/CommandLineTools/usr/bin/python3 -m pip install --upgrade pip\u001b[0m\n"
     ]
    }
   ],
   "source": [
    "!pip3 install pandas plotly matplotlib kaleido nbformat statsmodels"
   ]
  },
  {
   "cell_type": "code",
   "execution_count": 1,
   "metadata": {},
   "outputs": [],
   "source": [
    "import pandas as pd\n",
    "import numpy as np\n",
    "import plotly.express as plx\n",
    "import matplotlib.pyplot as plt\n",
    "import kaleido\n",
    "import os\n",
    "import plotly.graph_objects as go\n",
    "import locale\n",
    "from decimal import Decimal"
   ]
  },
  {
   "cell_type": "code",
   "execution_count": 2,
   "metadata": {},
   "outputs": [
    {
     "name": "stdout",
     "output_type": "stream",
     "text": [
      "c6a.8xlarge.1m-m16-16d-200ef.csv\n",
      "c4.4xlarge.1m-m16-16d-200ef.csv\n",
      "c7g.8xlarge.1m-m16-16d-200ef.csv\n",
      "c6g.8xlarge.1m-m16-16d-200ef.csv\n",
      "c6i.8xlarge.1m-m16-16d-200ef.csv\n",
      "c6i.4xlarge.1m-m16-16d-200ef.csv\n",
      "c5.4xlarge.1m-m16-16d-200ef.csv\n",
      "{'c6a.8xlarge': 'c6a.8xlarge.1m-m16-16d-200ef.csv', 'c4.4xlarge': 'c4.4xlarge.1m-m16-16d-200ef.csv', 'c7g.8xlarge': 'c7g.8xlarge.1m-m16-16d-200ef.csv', 'c6g.8xlarge': 'c6g.8xlarge.1m-m16-16d-200ef.csv', 'c6i.8xlarge': 'c6i.8xlarge.1m-m16-16d-200ef.csv', 'c6i.4xlarge': 'c6i.4xlarge.1m-m16-16d-200ef.csv', 'c5.4xlarge': 'c5.4xlarge.1m-m16-16d-200ef.csv'}\n"
     ]
    }
   ],
   "source": [
    "path = os.getcwd()\n",
    "\n",
    "benchmarks = {}\n",
    "\n",
    "with os.scandir(path) as fileNames:\n",
    "    for file in fileNames:\n",
    "        if file.is_file():\n",
    "            if file.name.endswith(\".csv\"):\n",
    "                print(file.name)\n",
    "                stats = file.name.split(\".\")\n",
    "                instance = \"{}.{}\".format(stats[0], stats[1])\n",
    "                benchmarks[instance] = file.name\n",
    "                #benchmarks.append(stats[0] + \".\" + stats[1])\n",
    "\n",
    "print(benchmarks)"
   ]
  },
  {
   "cell_type": "code",
   "execution_count": 3,
   "metadata": {},
   "outputs": [
    {
     "name": "stdout",
     "output_type": "stream",
     "text": [
      "c6a.8xlarge\n",
      "c4.4xlarge\n",
      "c7g.8xlarge\n",
      "c6g.8xlarge\n",
      "c6i.8xlarge\n",
      "c6i.4xlarge\n",
      "c5.4xlarge\n"
     ]
    },
    {
     "data": {
      "text/html": [
       "<div>\n",
       "<style scoped>\n",
       "    .dataframe tbody tr th:only-of-type {\n",
       "        vertical-align: middle;\n",
       "    }\n",
       "\n",
       "    .dataframe tbody tr th {\n",
       "        vertical-align: top;\n",
       "    }\n",
       "\n",
       "    .dataframe thead th {\n",
       "        text-align: right;\n",
       "    }\n",
       "</style>\n",
       "<table border=\"1\" class=\"dataframe\">\n",
       "  <thead>\n",
       "    <tr style=\"text-align: right;\">\n",
       "      <th></th>\n",
       "      <th>Dim</th>\n",
       "      <th>Size</th>\n",
       "      <th>K</th>\n",
       "      <th>M</th>\n",
       "      <th>Mmax</th>\n",
       "      <th>Mmax0</th>\n",
       "      <th>Ef</th>\n",
       "      <th>EfSearch</th>\n",
       "      <th>Heuristic</th>\n",
       "      <th>CpuType</th>\n",
       "      <th>...</th>\n",
       "      <th>BruteSearchMulti</th>\n",
       "      <th>BruteSearchSingle</th>\n",
       "      <th>HNSWSearchSecs</th>\n",
       "      <th>HNSWSearchMulti</th>\n",
       "      <th>HNSWSearchSingle</th>\n",
       "      <th>GroundTruthHits</th>\n",
       "      <th>HNSWPrecision</th>\n",
       "      <th>DateStart</th>\n",
       "      <th>DateEnd</th>\n",
       "      <th>instance</th>\n",
       "    </tr>\n",
       "  </thead>\n",
       "  <tbody>\n",
       "    <tr>\n",
       "      <th>0</th>\n",
       "      <td>16</td>\n",
       "      <td>1000000</td>\n",
       "      <td>10</td>\n",
       "      <td>16</td>\n",
       "      <td>16</td>\n",
       "      <td>32</td>\n",
       "      <td>200</td>\n",
       "      <td>10</td>\n",
       "      <td>True</td>\n",
       "      <td>AMD EPYC 7R13 Processor</td>\n",
       "      <td>...</td>\n",
       "      <td>767.504476</td>\n",
       "      <td>23.984515</td>\n",
       "      <td>23.219111</td>\n",
       "      <td>43067.971137</td>\n",
       "      <td>1345.874098</td>\n",
       "      <td>7841655</td>\n",
       "      <td>0.784165</td>\n",
       "      <td>2023-08-16 23:33:13.933183479 +0000 UTC m=+0.0...</td>\n",
       "      <td>2023-08-16 23:56:49.534409073 +0000 UTC m=+141...</td>\n",
       "      <td>c6a.8xlarge</td>\n",
       "    </tr>\n",
       "    <tr>\n",
       "      <th>1</th>\n",
       "      <td>16</td>\n",
       "      <td>1000000</td>\n",
       "      <td>10</td>\n",
       "      <td>16</td>\n",
       "      <td>16</td>\n",
       "      <td>32</td>\n",
       "      <td>200</td>\n",
       "      <td>20</td>\n",
       "      <td>True</td>\n",
       "      <td>AMD EPYC 7R13 Processor</td>\n",
       "      <td>...</td>\n",
       "      <td>767.504476</td>\n",
       "      <td>23.984515</td>\n",
       "      <td>22.387781</td>\n",
       "      <td>44667.222251</td>\n",
       "      <td>1395.850695</td>\n",
       "      <td>8698702</td>\n",
       "      <td>0.869870</td>\n",
       "      <td>2023-08-16 23:33:13.933183479 +0000 UTC m=+0.0...</td>\n",
       "      <td>2023-08-16 23:57:12.817534862 +0000 UTC m=+143...</td>\n",
       "      <td>c6a.8xlarge</td>\n",
       "    </tr>\n",
       "    <tr>\n",
       "      <th>2</th>\n",
       "      <td>16</td>\n",
       "      <td>1000000</td>\n",
       "      <td>10</td>\n",
       "      <td>16</td>\n",
       "      <td>16</td>\n",
       "      <td>32</td>\n",
       "      <td>200</td>\n",
       "      <td>30</td>\n",
       "      <td>True</td>\n",
       "      <td>AMD EPYC 7R13 Processor</td>\n",
       "      <td>...</td>\n",
       "      <td>767.504476</td>\n",
       "      <td>23.984515</td>\n",
       "      <td>23.060493</td>\n",
       "      <td>43364.207177</td>\n",
       "      <td>1355.131474</td>\n",
       "      <td>9103201</td>\n",
       "      <td>0.910320</td>\n",
       "      <td>2023-08-16 23:33:13.933183479 +0000 UTC m=+0.0...</td>\n",
       "      <td>2023-08-16 23:57:36.768610727 +0000 UTC m=+146...</td>\n",
       "      <td>c6a.8xlarge</td>\n",
       "    </tr>\n",
       "    <tr>\n",
       "      <th>3</th>\n",
       "      <td>16</td>\n",
       "      <td>1000000</td>\n",
       "      <td>10</td>\n",
       "      <td>16</td>\n",
       "      <td>16</td>\n",
       "      <td>32</td>\n",
       "      <td>200</td>\n",
       "      <td>40</td>\n",
       "      <td>True</td>\n",
       "      <td>AMD EPYC 7R13 Processor</td>\n",
       "      <td>...</td>\n",
       "      <td>767.504476</td>\n",
       "      <td>23.984515</td>\n",
       "      <td>26.129559</td>\n",
       "      <td>38270.833134</td>\n",
       "      <td>1195.963535</td>\n",
       "      <td>9359847</td>\n",
       "      <td>0.935985</td>\n",
       "      <td>2023-08-16 23:33:13.933183479 +0000 UTC m=+0.0...</td>\n",
       "      <td>2023-08-16 23:58:03.820121329 +0000 UTC m=+148...</td>\n",
       "      <td>c6a.8xlarge</td>\n",
       "    </tr>\n",
       "  </tbody>\n",
       "</table>\n",
       "<p>4 rows × 28 columns</p>\n",
       "</div>"
      ],
      "text/plain": [
       "   Dim     Size   K   M  Mmax  Mmax0   Ef  EfSearch  Heuristic  \\\n",
       "0   16  1000000  10  16    16     32  200        10       True   \n",
       "1   16  1000000  10  16    16     32  200        20       True   \n",
       "2   16  1000000  10  16    16     32  200        30       True   \n",
       "3   16  1000000  10  16    16     32  200        40       True   \n",
       "\n",
       "                   CpuType  ...  BruteSearchMulti  BruteSearchSingle  \\\n",
       "0  AMD EPYC 7R13 Processor  ...        767.504476          23.984515   \n",
       "1  AMD EPYC 7R13 Processor  ...        767.504476          23.984515   \n",
       "2  AMD EPYC 7R13 Processor  ...        767.504476          23.984515   \n",
       "3  AMD EPYC 7R13 Processor  ...        767.504476          23.984515   \n",
       "\n",
       "   HNSWSearchSecs HNSWSearchMulti  HNSWSearchSingle  GroundTruthHits  \\\n",
       "0       23.219111    43067.971137       1345.874098          7841655   \n",
       "1       22.387781    44667.222251       1395.850695          8698702   \n",
       "2       23.060493    43364.207177       1355.131474          9103201   \n",
       "3       26.129559    38270.833134       1195.963535          9359847   \n",
       "\n",
       "   HNSWPrecision                                          DateStart  \\\n",
       "0       0.784165  2023-08-16 23:33:13.933183479 +0000 UTC m=+0.0...   \n",
       "1       0.869870  2023-08-16 23:33:13.933183479 +0000 UTC m=+0.0...   \n",
       "2       0.910320  2023-08-16 23:33:13.933183479 +0000 UTC m=+0.0...   \n",
       "3       0.935985  2023-08-16 23:33:13.933183479 +0000 UTC m=+0.0...   \n",
       "\n",
       "                                             DateEnd     instance  \n",
       "0  2023-08-16 23:56:49.534409073 +0000 UTC m=+141...  c6a.8xlarge  \n",
       "1  2023-08-16 23:57:12.817534862 +0000 UTC m=+143...  c6a.8xlarge  \n",
       "2  2023-08-16 23:57:36.768610727 +0000 UTC m=+146...  c6a.8xlarge  \n",
       "3  2023-08-16 23:58:03.820121329 +0000 UTC m=+148...  c6a.8xlarge  \n",
       "\n",
       "[4 rows x 28 columns]"
      ]
     },
     "execution_count": 3,
     "metadata": {},
     "output_type": "execute_result"
    }
   ],
   "source": [
    "#filename = \"c4.4xlarge.1m-m16-16d-200ef.csv\"\n",
    "bench = pd.DataFrame()\n",
    "for instance in benchmarks:\n",
    "    print(instance)\n",
    "    bh = pd.read_csv(benchmarks[instance])\n",
    "    bh[\"instance\"] = instance\n",
    "    # Concatenate all DataFrames\n",
    "    bench = pd.concat([bench, bh], ignore_index=True)\n",
    "\n",
    "#bh.head()\n",
    "bench.head(4)"
   ]
  },
  {
   "cell_type": "code",
   "execution_count": 4,
   "metadata": {},
   "outputs": [
    {
     "data": {
      "text/plain": [
       "(140, 28)"
      ]
     },
     "execution_count": 4,
     "metadata": {},
     "output_type": "execute_result"
    }
   ],
   "source": [
    "bench.shape"
   ]
  },
  {
   "cell_type": "code",
   "execution_count": 5,
   "metadata": {},
   "outputs": [],
   "source": [
    "bench[\"bruteqps\"] = bench.apply(lambda row: (row[\"Size\"] / row[\"BruteSearchSecs\"]), axis=1)\n",
    "#bench[\"bruteqps\"]"
   ]
  },
  {
   "cell_type": "code",
   "execution_count": 6,
   "metadata": {},
   "outputs": [],
   "source": [
    "bench[\"hnswqps\"] = bench.apply(lambda row: (row[\"Size\"] / row[\"HNSWSearchSecs\"]), axis=1)\n",
    "#bench[\"hnswqps\"]"
   ]
  },
  {
   "cell_type": "code",
   "execution_count": 7,
   "metadata": {},
   "outputs": [],
   "source": [
    "bench[\"hnswvsbrutesearch\"] = bench.apply(lambda row: (row[\"hnswqps\"] / row[\"bruteqps\"]), axis=1)\n",
    "#bench[\"hnswvsbrutesearch\"]"
   ]
  },
  {
   "cell_type": "code",
   "execution_count": 16,
   "metadata": {},
   "outputs": [
    {
     "data": {
      "application/vnd.plotly.v1+json": {
       "config": {
        "plotlyServerURL": "https://plot.ly"
       },
       "data": [
        {
         "hovertemplate": "instance=c6a.8xlarge<br>HNSW Precision (%)=%{x}<br>HNSW Search (queries p/second)=%{y}<extra></extra>",
         "legendgroup": "c6a.8xlarge",
         "line": {
          "color": "#636efa",
          "dash": "solid"
         },
         "marker": {
          "symbol": "circle"
         },
         "mode": "lines",
         "name": "c6a.8xlarge",
         "orientation": "v",
         "showlegend": true,
         "type": "scatter",
         "x": [
          0.784165,
          0.86987,
          0.91032,
          0.935985,
          0.953099,
          0.964967,
          0.973412,
          0.979476,
          0.98388,
          0.987207,
          0.989684,
          0.991596,
          0.993098,
          0.994266,
          0.995196,
          0.995944,
          0.996552,
          0.997043,
          0.997442,
          0.997773
         ],
         "xaxis": "x",
         "y": [
          43067.97103472221,
          44667.22271403316,
          43364.207348038915,
          38270.83342661849,
          35804.22336593642,
          32701.63690332634,
          29376.547409634804,
          27838.148669577295,
          26071.77209495996,
          24606.144818727145,
          23234.28009849383,
          21966.47871415263,
          20592.857239790665,
          20040.96734462654,
          19184.40531921402,
          18438.31152194783,
          17707.88467825101,
          17073.551596836354,
          16436.424951998655,
          15896.142236773198
         ],
         "yaxis": "y"
        },
        {
         "hovertemplate": "instance=c4.4xlarge<br>HNSW Precision (%)=%{x}<br>HNSW Search (queries p/second)=%{y}<extra></extra>",
         "legendgroup": "c4.4xlarge",
         "line": {
          "color": "#EF553B",
          "dash": "solid"
         },
         "marker": {
          "symbol": "circle"
         },
         "mode": "lines",
         "name": "c4.4xlarge",
         "orientation": "v",
         "showlegend": true,
         "type": "scatter",
         "x": [
          0.792901,
          0.870283,
          0.910393,
          0.936052,
          0.953342,
          0.965207,
          0.973565,
          0.979554,
          0.983959,
          0.987273,
          0.989749,
          0.991645,
          0.993136,
          0.994306,
          0.995226,
          0.995946,
          0.99653,
          0.997014,
          0.997416,
          0.997754
         ],
         "xaxis": "x",
         "y": [
          26126.489990458344,
          25486.827069711955,
          22929.0467755535,
          19796.998410776156,
          18531.991619611006,
          17058.069181455925,
          15172.202909946589,
          14549.20707694383,
          13656.275852183706,
          12842.124304648733,
          12115.534708220368,
          11500.989677413227,
          10708.418762867303,
          10542.165324703488,
          10099.193164348988,
          9678.64348468951,
          9271.637152403195,
          8934.415413739242,
          8596.21083324576,
          8289.166993757195
         ],
         "yaxis": "y"
        },
        {
         "hovertemplate": "instance=c7g.8xlarge<br>HNSW Precision (%)=%{x}<br>HNSW Search (queries p/second)=%{y}<extra></extra>",
         "legendgroup": "c7g.8xlarge",
         "line": {
          "color": "#00cc96",
          "dash": "solid"
         },
         "marker": {
          "symbol": "circle"
         },
         "mode": "lines",
         "name": "c7g.8xlarge",
         "orientation": "v",
         "showlegend": true,
         "type": "scatter",
         "x": [
          0.794142,
          0.870645,
          0.910593,
          0.936175,
          0.95335,
          0.96521,
          0.973585,
          0.979614,
          0.984011,
          0.98729,
          0.98976,
          0.991642,
          0.993139,
          0.994287,
          0.995206,
          0.995958,
          0.99656,
          0.997042,
          0.997451,
          0.997783
         ],
         "xaxis": "x",
         "y": [
          49798.46560967764,
          48871.183185028836,
          49633.53328863999,
          52136.75721674386,
          50308.74729760276,
          46701.86305874226,
          43054.85752867787,
          39706.38872618093,
          36952.36275070284,
          34723.167464003185,
          32707.990355983628,
          30909.21336577441,
          29793.055352011055,
          28223.95618919466,
          26913.044464682454,
          25820.90865636667,
          24691.8939302411,
          23675.95254098491,
          22697.527102152468,
          21878.51847599316
         ],
         "yaxis": "y"
        },
        {
         "hovertemplate": "instance=c6g.8xlarge<br>HNSW Precision (%)=%{x}<br>HNSW Search (queries p/second)=%{y}<extra></extra>",
         "legendgroup": "c6g.8xlarge",
         "line": {
          "color": "#ab63fa",
          "dash": "solid"
         },
         "marker": {
          "symbol": "circle"
         },
         "mode": "lines",
         "name": "c6g.8xlarge",
         "orientation": "v",
         "showlegend": true,
         "type": "scatter",
         "x": [
          0.780765,
          0.870032,
          0.910411,
          0.936024,
          0.9532,
          0.965076,
          0.973454,
          0.979499,
          0.983921,
          0.987234,
          0.989714,
          0.991632,
          0.993122,
          0.994277,
          0.99521,
          0.99595,
          0.996549,
          0.997036,
          0.997427,
          0.997747
         ],
         "xaxis": "x",
         "y": [
          43015.9034957132,
          41136.01380261353,
          39837.50441299955,
          42003.90023015197,
          40633.34380319159,
          38676.8180937581,
          36024.465367213765,
          33269.35857475133,
          31023.222184780636,
          29061.653833621567,
          27434.243136967438,
          26025.324931386833,
          24899.934012684873,
          23781.19926875666,
          22683.054175253903,
          21750.12701530424,
          20939.21596874864,
          20051.576263433275,
          19368.185013580194,
          18663.339117724237
         ],
         "yaxis": "y"
        },
        {
         "hovertemplate": "instance=c6i.8xlarge<br>HNSW Precision (%)=%{x}<br>HNSW Search (queries p/second)=%{y}<extra></extra>",
         "legendgroup": "c6i.8xlarge",
         "line": {
          "color": "#FFA15A",
          "dash": "solid"
         },
         "marker": {
          "symbol": "circle"
         },
         "mode": "lines",
         "name": "c6i.8xlarge",
         "orientation": "v",
         "showlegend": true,
         "type": "scatter",
         "x": [
          0.790255,
          0.87007,
          0.910234,
          0.935945,
          0.953179,
          0.965088,
          0.973477,
          0.979562,
          0.983946,
          0.987237,
          0.989723,
          0.991625,
          0.993102,
          0.994273,
          0.995202,
          0.995939,
          0.996542,
          0.997031,
          0.997441,
          0.997783
         ],
         "xaxis": "x",
         "y": [
          51382.663807803765,
          51637.14803280797,
          49289.30247652128,
          44195.148451061694,
          42747.48152143929,
          39567.38133138936,
          35157.59656341525,
          33975.346197735766,
          31743.19400525972,
          29901.37420436555,
          28302.889141941876,
          26903.45219986973,
          24913.67784332456,
          24519.63100505379,
          23545.902206568906,
          22504.203897809133,
          21620.74230018883,
          20813.735900124873,
          20165.88944639955,
          19371.28593124135
         ],
         "yaxis": "y"
        },
        {
         "hovertemplate": "instance=c6i.4xlarge<br>HNSW Precision (%)=%{x}<br>HNSW Search (queries p/second)=%{y}<extra></extra>",
         "legendgroup": "c6i.4xlarge",
         "line": {
          "color": "#19d3f3",
          "dash": "solid"
         },
         "marker": {
          "symbol": "circle"
         },
         "mode": "lines",
         "name": "c6i.4xlarge",
         "orientation": "v",
         "showlegend": true,
         "type": "scatter",
         "x": [
          0.792257,
          0.870501,
          0.910666,
          0.936134,
          0.953351,
          0.965256,
          0.973624,
          0.979647,
          0.984038,
          0.987314,
          0.989757,
          0.991644,
          0.993147,
          0.994305,
          0.995224,
          0.995956,
          0.996565,
          0.997052,
          0.997456,
          0.997797
         ],
         "xaxis": "x",
         "y": [
          40035.15567089773,
          35470.7121344916,
          30986.84614578481,
          26804.327976899385,
          24527.696515475247,
          22354.10948112893,
          20228.508105249653,
          18848.068621445098,
          17658.269747375496,
          16432.430854919072,
          15596.56794403078,
          14557.121416582599,
          13958.373867869448,
          13228.131765155951,
          12627.037467198114,
          12071.11115724958,
          11515.101825742426,
          11211.660521592907,
          10803.657738221409,
          10437.073864058886
         ],
         "yaxis": "y"
        },
        {
         "hovertemplate": "instance=c5.4xlarge<br>HNSW Precision (%)=%{x}<br>HNSW Search (queries p/second)=%{y}<extra></extra>",
         "legendgroup": "c5.4xlarge",
         "line": {
          "color": "#FF6692",
          "dash": "solid"
         },
         "marker": {
          "symbol": "circle"
         },
         "mode": "lines",
         "name": "c5.4xlarge",
         "orientation": "v",
         "showlegend": true,
         "type": "scatter",
         "x": [
          0.793251,
          0.870127,
          0.910262,
          0.935936,
          0.953112,
          0.96496,
          0.973312,
          0.979343,
          0.983815,
          0.987127,
          0.98963,
          0.991546,
          0.993046,
          0.994223,
          0.995143,
          0.995899,
          0.996506,
          0.996996,
          0.997406,
          0.997737
         ],
         "xaxis": "x",
         "y": [
          33257.15338920823,
          29386.404239024076,
          25959.725873601885,
          22787.608617991013,
          20881.661328269947,
          19106.21763514205,
          17569.562995070755,
          16433.636333981118,
          15313.474401161606,
          14413.930937408415,
          13635.124451462354,
          12834.550033702886,
          12299.673979921618,
          11846.157833752823,
          11225.481051713523,
          10735.93376615966,
          10344.72032215859,
          9974.849514183434,
          9579.27709621381,
          9270.929470940502
         ],
         "yaxis": "y"
        }
       ],
       "layout": {
        "legend": {
         "title": {
          "text": "instance"
         },
         "tracegroupgap": 0
        },
        "template": {
         "data": {
          "bar": [
           {
            "error_x": {
             "color": "#2a3f5f"
            },
            "error_y": {
             "color": "#2a3f5f"
            },
            "marker": {
             "line": {
              "color": "#E5ECF6",
              "width": 0.5
             },
             "pattern": {
              "fillmode": "overlay",
              "size": 10,
              "solidity": 0.2
             }
            },
            "type": "bar"
           }
          ],
          "barpolar": [
           {
            "marker": {
             "line": {
              "color": "#E5ECF6",
              "width": 0.5
             },
             "pattern": {
              "fillmode": "overlay",
              "size": 10,
              "solidity": 0.2
             }
            },
            "type": "barpolar"
           }
          ],
          "carpet": [
           {
            "aaxis": {
             "endlinecolor": "#2a3f5f",
             "gridcolor": "white",
             "linecolor": "white",
             "minorgridcolor": "white",
             "startlinecolor": "#2a3f5f"
            },
            "baxis": {
             "endlinecolor": "#2a3f5f",
             "gridcolor": "white",
             "linecolor": "white",
             "minorgridcolor": "white",
             "startlinecolor": "#2a3f5f"
            },
            "type": "carpet"
           }
          ],
          "choropleth": [
           {
            "colorbar": {
             "outlinewidth": 0,
             "ticks": ""
            },
            "type": "choropleth"
           }
          ],
          "contour": [
           {
            "colorbar": {
             "outlinewidth": 0,
             "ticks": ""
            },
            "colorscale": [
             [
              0,
              "#0d0887"
             ],
             [
              0.1111111111111111,
              "#46039f"
             ],
             [
              0.2222222222222222,
              "#7201a8"
             ],
             [
              0.3333333333333333,
              "#9c179e"
             ],
             [
              0.4444444444444444,
              "#bd3786"
             ],
             [
              0.5555555555555556,
              "#d8576b"
             ],
             [
              0.6666666666666666,
              "#ed7953"
             ],
             [
              0.7777777777777778,
              "#fb9f3a"
             ],
             [
              0.8888888888888888,
              "#fdca26"
             ],
             [
              1,
              "#f0f921"
             ]
            ],
            "type": "contour"
           }
          ],
          "contourcarpet": [
           {
            "colorbar": {
             "outlinewidth": 0,
             "ticks": ""
            },
            "type": "contourcarpet"
           }
          ],
          "heatmap": [
           {
            "colorbar": {
             "outlinewidth": 0,
             "ticks": ""
            },
            "colorscale": [
             [
              0,
              "#0d0887"
             ],
             [
              0.1111111111111111,
              "#46039f"
             ],
             [
              0.2222222222222222,
              "#7201a8"
             ],
             [
              0.3333333333333333,
              "#9c179e"
             ],
             [
              0.4444444444444444,
              "#bd3786"
             ],
             [
              0.5555555555555556,
              "#d8576b"
             ],
             [
              0.6666666666666666,
              "#ed7953"
             ],
             [
              0.7777777777777778,
              "#fb9f3a"
             ],
             [
              0.8888888888888888,
              "#fdca26"
             ],
             [
              1,
              "#f0f921"
             ]
            ],
            "type": "heatmap"
           }
          ],
          "heatmapgl": [
           {
            "colorbar": {
             "outlinewidth": 0,
             "ticks": ""
            },
            "colorscale": [
             [
              0,
              "#0d0887"
             ],
             [
              0.1111111111111111,
              "#46039f"
             ],
             [
              0.2222222222222222,
              "#7201a8"
             ],
             [
              0.3333333333333333,
              "#9c179e"
             ],
             [
              0.4444444444444444,
              "#bd3786"
             ],
             [
              0.5555555555555556,
              "#d8576b"
             ],
             [
              0.6666666666666666,
              "#ed7953"
             ],
             [
              0.7777777777777778,
              "#fb9f3a"
             ],
             [
              0.8888888888888888,
              "#fdca26"
             ],
             [
              1,
              "#f0f921"
             ]
            ],
            "type": "heatmapgl"
           }
          ],
          "histogram": [
           {
            "marker": {
             "pattern": {
              "fillmode": "overlay",
              "size": 10,
              "solidity": 0.2
             }
            },
            "type": "histogram"
           }
          ],
          "histogram2d": [
           {
            "colorbar": {
             "outlinewidth": 0,
             "ticks": ""
            },
            "colorscale": [
             [
              0,
              "#0d0887"
             ],
             [
              0.1111111111111111,
              "#46039f"
             ],
             [
              0.2222222222222222,
              "#7201a8"
             ],
             [
              0.3333333333333333,
              "#9c179e"
             ],
             [
              0.4444444444444444,
              "#bd3786"
             ],
             [
              0.5555555555555556,
              "#d8576b"
             ],
             [
              0.6666666666666666,
              "#ed7953"
             ],
             [
              0.7777777777777778,
              "#fb9f3a"
             ],
             [
              0.8888888888888888,
              "#fdca26"
             ],
             [
              1,
              "#f0f921"
             ]
            ],
            "type": "histogram2d"
           }
          ],
          "histogram2dcontour": [
           {
            "colorbar": {
             "outlinewidth": 0,
             "ticks": ""
            },
            "colorscale": [
             [
              0,
              "#0d0887"
             ],
             [
              0.1111111111111111,
              "#46039f"
             ],
             [
              0.2222222222222222,
              "#7201a8"
             ],
             [
              0.3333333333333333,
              "#9c179e"
             ],
             [
              0.4444444444444444,
              "#bd3786"
             ],
             [
              0.5555555555555556,
              "#d8576b"
             ],
             [
              0.6666666666666666,
              "#ed7953"
             ],
             [
              0.7777777777777778,
              "#fb9f3a"
             ],
             [
              0.8888888888888888,
              "#fdca26"
             ],
             [
              1,
              "#f0f921"
             ]
            ],
            "type": "histogram2dcontour"
           }
          ],
          "mesh3d": [
           {
            "colorbar": {
             "outlinewidth": 0,
             "ticks": ""
            },
            "type": "mesh3d"
           }
          ],
          "parcoords": [
           {
            "line": {
             "colorbar": {
              "outlinewidth": 0,
              "ticks": ""
             }
            },
            "type": "parcoords"
           }
          ],
          "pie": [
           {
            "automargin": true,
            "type": "pie"
           }
          ],
          "scatter": [
           {
            "fillpattern": {
             "fillmode": "overlay",
             "size": 10,
             "solidity": 0.2
            },
            "type": "scatter"
           }
          ],
          "scatter3d": [
           {
            "line": {
             "colorbar": {
              "outlinewidth": 0,
              "ticks": ""
             }
            },
            "marker": {
             "colorbar": {
              "outlinewidth": 0,
              "ticks": ""
             }
            },
            "type": "scatter3d"
           }
          ],
          "scattercarpet": [
           {
            "marker": {
             "colorbar": {
              "outlinewidth": 0,
              "ticks": ""
             }
            },
            "type": "scattercarpet"
           }
          ],
          "scattergeo": [
           {
            "marker": {
             "colorbar": {
              "outlinewidth": 0,
              "ticks": ""
             }
            },
            "type": "scattergeo"
           }
          ],
          "scattergl": [
           {
            "marker": {
             "colorbar": {
              "outlinewidth": 0,
              "ticks": ""
             }
            },
            "type": "scattergl"
           }
          ],
          "scattermapbox": [
           {
            "marker": {
             "colorbar": {
              "outlinewidth": 0,
              "ticks": ""
             }
            },
            "type": "scattermapbox"
           }
          ],
          "scatterpolar": [
           {
            "marker": {
             "colorbar": {
              "outlinewidth": 0,
              "ticks": ""
             }
            },
            "type": "scatterpolar"
           }
          ],
          "scatterpolargl": [
           {
            "marker": {
             "colorbar": {
              "outlinewidth": 0,
              "ticks": ""
             }
            },
            "type": "scatterpolargl"
           }
          ],
          "scatterternary": [
           {
            "marker": {
             "colorbar": {
              "outlinewidth": 0,
              "ticks": ""
             }
            },
            "type": "scatterternary"
           }
          ],
          "surface": [
           {
            "colorbar": {
             "outlinewidth": 0,
             "ticks": ""
            },
            "colorscale": [
             [
              0,
              "#0d0887"
             ],
             [
              0.1111111111111111,
              "#46039f"
             ],
             [
              0.2222222222222222,
              "#7201a8"
             ],
             [
              0.3333333333333333,
              "#9c179e"
             ],
             [
              0.4444444444444444,
              "#bd3786"
             ],
             [
              0.5555555555555556,
              "#d8576b"
             ],
             [
              0.6666666666666666,
              "#ed7953"
             ],
             [
              0.7777777777777778,
              "#fb9f3a"
             ],
             [
              0.8888888888888888,
              "#fdca26"
             ],
             [
              1,
              "#f0f921"
             ]
            ],
            "type": "surface"
           }
          ],
          "table": [
           {
            "cells": {
             "fill": {
              "color": "#EBF0F8"
             },
             "line": {
              "color": "white"
             }
            },
            "header": {
             "fill": {
              "color": "#C8D4E3"
             },
             "line": {
              "color": "white"
             }
            },
            "type": "table"
           }
          ]
         },
         "layout": {
          "annotationdefaults": {
           "arrowcolor": "#2a3f5f",
           "arrowhead": 0,
           "arrowwidth": 1
          },
          "autotypenumbers": "strict",
          "coloraxis": {
           "colorbar": {
            "outlinewidth": 0,
            "ticks": ""
           }
          },
          "colorscale": {
           "diverging": [
            [
             0,
             "#8e0152"
            ],
            [
             0.1,
             "#c51b7d"
            ],
            [
             0.2,
             "#de77ae"
            ],
            [
             0.3,
             "#f1b6da"
            ],
            [
             0.4,
             "#fde0ef"
            ],
            [
             0.5,
             "#f7f7f7"
            ],
            [
             0.6,
             "#e6f5d0"
            ],
            [
             0.7,
             "#b8e186"
            ],
            [
             0.8,
             "#7fbc41"
            ],
            [
             0.9,
             "#4d9221"
            ],
            [
             1,
             "#276419"
            ]
           ],
           "sequential": [
            [
             0,
             "#0d0887"
            ],
            [
             0.1111111111111111,
             "#46039f"
            ],
            [
             0.2222222222222222,
             "#7201a8"
            ],
            [
             0.3333333333333333,
             "#9c179e"
            ],
            [
             0.4444444444444444,
             "#bd3786"
            ],
            [
             0.5555555555555556,
             "#d8576b"
            ],
            [
             0.6666666666666666,
             "#ed7953"
            ],
            [
             0.7777777777777778,
             "#fb9f3a"
            ],
            [
             0.8888888888888888,
             "#fdca26"
            ],
            [
             1,
             "#f0f921"
            ]
           ],
           "sequentialminus": [
            [
             0,
             "#0d0887"
            ],
            [
             0.1111111111111111,
             "#46039f"
            ],
            [
             0.2222222222222222,
             "#7201a8"
            ],
            [
             0.3333333333333333,
             "#9c179e"
            ],
            [
             0.4444444444444444,
             "#bd3786"
            ],
            [
             0.5555555555555556,
             "#d8576b"
            ],
            [
             0.6666666666666666,
             "#ed7953"
            ],
            [
             0.7777777777777778,
             "#fb9f3a"
            ],
            [
             0.8888888888888888,
             "#fdca26"
            ],
            [
             1,
             "#f0f921"
            ]
           ]
          },
          "colorway": [
           "#636efa",
           "#EF553B",
           "#00cc96",
           "#ab63fa",
           "#FFA15A",
           "#19d3f3",
           "#FF6692",
           "#B6E880",
           "#FF97FF",
           "#FECB52"
          ],
          "font": {
           "color": "#2a3f5f"
          },
          "geo": {
           "bgcolor": "white",
           "lakecolor": "white",
           "landcolor": "#E5ECF6",
           "showlakes": true,
           "showland": true,
           "subunitcolor": "white"
          },
          "hoverlabel": {
           "align": "left"
          },
          "hovermode": "closest",
          "mapbox": {
           "style": "light"
          },
          "paper_bgcolor": "white",
          "plot_bgcolor": "#E5ECF6",
          "polar": {
           "angularaxis": {
            "gridcolor": "white",
            "linecolor": "white",
            "ticks": ""
           },
           "bgcolor": "#E5ECF6",
           "radialaxis": {
            "gridcolor": "white",
            "linecolor": "white",
            "ticks": ""
           }
          },
          "scene": {
           "xaxis": {
            "backgroundcolor": "#E5ECF6",
            "gridcolor": "white",
            "gridwidth": 2,
            "linecolor": "white",
            "showbackground": true,
            "ticks": "",
            "zerolinecolor": "white"
           },
           "yaxis": {
            "backgroundcolor": "#E5ECF6",
            "gridcolor": "white",
            "gridwidth": 2,
            "linecolor": "white",
            "showbackground": true,
            "ticks": "",
            "zerolinecolor": "white"
           },
           "zaxis": {
            "backgroundcolor": "#E5ECF6",
            "gridcolor": "white",
            "gridwidth": 2,
            "linecolor": "white",
            "showbackground": true,
            "ticks": "",
            "zerolinecolor": "white"
           }
          },
          "shapedefaults": {
           "line": {
            "color": "#2a3f5f"
           }
          },
          "ternary": {
           "aaxis": {
            "gridcolor": "white",
            "linecolor": "white",
            "ticks": ""
           },
           "baxis": {
            "gridcolor": "white",
            "linecolor": "white",
            "ticks": ""
           },
           "bgcolor": "#E5ECF6",
           "caxis": {
            "gridcolor": "white",
            "linecolor": "white",
            "ticks": ""
           }
          },
          "title": {
           "x": 0.05
          },
          "xaxis": {
           "automargin": true,
           "gridcolor": "white",
           "linecolor": "white",
           "ticks": "",
           "title": {
            "standoff": 15
           },
           "zerolinecolor": "white",
           "zerolinewidth": 2
          },
          "yaxis": {
           "automargin": true,
           "gridcolor": "white",
           "linecolor": "white",
           "ticks": "",
           "title": {
            "standoff": 15
           },
           "zerolinecolor": "white",
           "zerolinewidth": 2
          }
         }
        },
        "title": {
         "text": "HNSW Search Time for 1,000,000 vectors (16 dim, M 16)"
        },
        "xaxis": {
         "anchor": "y",
         "categoryorder": "total descending",
         "domain": [
          0,
          1
         ],
         "title": {
          "text": "HNSW Precision (%)"
         }
        },
        "yaxis": {
         "anchor": "x",
         "domain": [
          0,
          1
         ],
         "title": {
          "text": "HNSW Search (queries p/second)"
         }
        }
       }
      }
     },
     "metadata": {},
     "output_type": "display_data"
    }
   ],
   "source": [
    "#bench_pv = bench.pivot_table(index = 'HNSWPrecision', columns='HNSWSearchSecs', values='HNSWPrecision')\n",
    "locale.setlocale(locale.LC_ALL, 'en_us')\n",
    "\n",
    "plotLables={\n",
    "    \"hnswqps\": \"HNSW Search (queries p/second)\",\n",
    "    \"HNSWPrecision\": \"HNSW Precision (%)\",\n",
    "}\n",
    "\n",
    "plotTitle = \"HNSW Search Time for {:n} vectors ({} dim, M {})\".format(Decimal(int(bench[\"Size\"][0])), bench[\"Dim\"][0], bench[\"M\"][0])\n",
    "fig = plx.line(bench, x=\"HNSWPrecision\", y=\"hnswqps\", color=\"instance\", title=plotTitle, labels=plotLables)\n",
    "\n",
    "fig.update_xaxes(categoryorder='total descending')\n",
    "\n",
    "fig.write_image(\"hnsw_search_all_instances.png\", scale=4)\n",
    "fig.write_html(\"hnsw_search_all_instances.html\")\n",
    "fig.show()"
   ]
  },
  {
   "cell_type": "code",
   "execution_count": 17,
   "metadata": {},
   "outputs": [
    {
     "data": {
      "application/vnd.plotly.v1+json": {
       "config": {
        "plotlyServerURL": "https://plot.ly"
       },
       "data": [
        {
         "alignmentgroup": "True",
         "hovertemplate": "Instance Type=%{x}<br>Brute Search Time (queries p/second)=%{y}<extra></extra>",
         "legendgroup": "c6a.8xlarge",
         "marker": {
          "color": "#636efa",
          "pattern": {
           "shape": ""
          }
         },
         "name": "c6a.8xlarge",
         "offsetgroup": "c6a.8xlarge",
         "orientation": "v",
         "showlegend": true,
         "textposition": "auto",
         "type": "bar",
         "x": [
          "c6a.8xlarge"
         ],
         "xaxis": "x",
         "y": [
          767.5044763182759
         ],
         "yaxis": "y"
        },
        {
         "alignmentgroup": "True",
         "hovertemplate": "Instance Type=%{x}<br>Brute Search Time (queries p/second)=%{y}<extra></extra>",
         "legendgroup": "c4.4xlarge",
         "marker": {
          "color": "#EF553B",
          "pattern": {
           "shape": ""
          }
         },
         "name": "c4.4xlarge",
         "offsetgroup": "c4.4xlarge",
         "orientation": "v",
         "showlegend": true,
         "textposition": "auto",
         "type": "bar",
         "x": [
          "c4.4xlarge"
         ],
         "xaxis": "x",
         "y": [
          422.9545511657777
         ],
         "yaxis": "y"
        },
        {
         "alignmentgroup": "True",
         "hovertemplate": "Instance Type=%{x}<br>Brute Search Time (queries p/second)=%{y}<extra></extra>",
         "legendgroup": "c7g.8xlarge",
         "marker": {
          "color": "#00cc96",
          "pattern": {
           "shape": ""
          }
         },
         "name": "c7g.8xlarge",
         "offsetgroup": "c7g.8xlarge",
         "orientation": "v",
         "showlegend": true,
         "textposition": "auto",
         "type": "bar",
         "x": [
          "c7g.8xlarge"
         ],
         "xaxis": "x",
         "y": [
          1978.6284815746424
         ],
         "yaxis": "y"
        },
        {
         "alignmentgroup": "True",
         "hovertemplate": "Instance Type=%{x}<br>Brute Search Time (queries p/second)=%{y}<extra></extra>",
         "legendgroup": "c6g.8xlarge",
         "marker": {
          "color": "#ab63fa",
          "pattern": {
           "shape": ""
          }
         },
         "name": "c6g.8xlarge",
         "offsetgroup": "c6g.8xlarge",
         "orientation": "v",
         "showlegend": true,
         "textposition": "auto",
         "type": "bar",
         "x": [
          "c6g.8xlarge"
         ],
         "xaxis": "x",
         "y": [
          1180.1000985449666
         ],
         "yaxis": "y"
        },
        {
         "alignmentgroup": "True",
         "hovertemplate": "Instance Type=%{x}<br>Brute Search Time (queries p/second)=%{y}<extra></extra>",
         "legendgroup": "c6i.8xlarge",
         "marker": {
          "color": "#FFA15A",
          "pattern": {
           "shape": ""
          }
         },
         "name": "c6i.8xlarge",
         "offsetgroup": "c6i.8xlarge",
         "orientation": "v",
         "showlegend": true,
         "textposition": "auto",
         "type": "bar",
         "x": [
          "c6i.8xlarge"
         ],
         "xaxis": "x",
         "y": [
          960.9214150913895
         ],
         "yaxis": "y"
        },
        {
         "alignmentgroup": "True",
         "hovertemplate": "Instance Type=%{x}<br>Brute Search Time (queries p/second)=%{y}<extra></extra>",
         "legendgroup": "c6i.4xlarge",
         "marker": {
          "color": "#19d3f3",
          "pattern": {
           "shape": ""
          }
         },
         "name": "c6i.4xlarge",
         "offsetgroup": "c6i.4xlarge",
         "orientation": "v",
         "showlegend": true,
         "textposition": "auto",
         "type": "bar",
         "x": [
          "c6i.4xlarge"
         ],
         "xaxis": "x",
         "y": [
          484.4053374585757
         ],
         "yaxis": "y"
        },
        {
         "alignmentgroup": "True",
         "hovertemplate": "Instance Type=%{x}<br>Brute Search Time (queries p/second)=%{y}<extra></extra>",
         "legendgroup": "c5.4xlarge",
         "marker": {
          "color": "#FF6692",
          "pattern": {
           "shape": ""
          }
         },
         "name": "c5.4xlarge",
         "offsetgroup": "c5.4xlarge",
         "orientation": "v",
         "showlegend": true,
         "textposition": "auto",
         "type": "bar",
         "x": [
          "c5.4xlarge"
         ],
         "xaxis": "x",
         "y": [
          483.80202727960204
         ],
         "yaxis": "y"
        }
       ],
       "layout": {
        "barmode": "relative",
        "legend": {
         "title": {
          "text": "Instance Type"
         },
         "tracegroupgap": 0
        },
        "template": {
         "data": {
          "bar": [
           {
            "error_x": {
             "color": "#2a3f5f"
            },
            "error_y": {
             "color": "#2a3f5f"
            },
            "marker": {
             "line": {
              "color": "#E5ECF6",
              "width": 0.5
             },
             "pattern": {
              "fillmode": "overlay",
              "size": 10,
              "solidity": 0.2
             }
            },
            "type": "bar"
           }
          ],
          "barpolar": [
           {
            "marker": {
             "line": {
              "color": "#E5ECF6",
              "width": 0.5
             },
             "pattern": {
              "fillmode": "overlay",
              "size": 10,
              "solidity": 0.2
             }
            },
            "type": "barpolar"
           }
          ],
          "carpet": [
           {
            "aaxis": {
             "endlinecolor": "#2a3f5f",
             "gridcolor": "white",
             "linecolor": "white",
             "minorgridcolor": "white",
             "startlinecolor": "#2a3f5f"
            },
            "baxis": {
             "endlinecolor": "#2a3f5f",
             "gridcolor": "white",
             "linecolor": "white",
             "minorgridcolor": "white",
             "startlinecolor": "#2a3f5f"
            },
            "type": "carpet"
           }
          ],
          "choropleth": [
           {
            "colorbar": {
             "outlinewidth": 0,
             "ticks": ""
            },
            "type": "choropleth"
           }
          ],
          "contour": [
           {
            "colorbar": {
             "outlinewidth": 0,
             "ticks": ""
            },
            "colorscale": [
             [
              0,
              "#0d0887"
             ],
             [
              0.1111111111111111,
              "#46039f"
             ],
             [
              0.2222222222222222,
              "#7201a8"
             ],
             [
              0.3333333333333333,
              "#9c179e"
             ],
             [
              0.4444444444444444,
              "#bd3786"
             ],
             [
              0.5555555555555556,
              "#d8576b"
             ],
             [
              0.6666666666666666,
              "#ed7953"
             ],
             [
              0.7777777777777778,
              "#fb9f3a"
             ],
             [
              0.8888888888888888,
              "#fdca26"
             ],
             [
              1,
              "#f0f921"
             ]
            ],
            "type": "contour"
           }
          ],
          "contourcarpet": [
           {
            "colorbar": {
             "outlinewidth": 0,
             "ticks": ""
            },
            "type": "contourcarpet"
           }
          ],
          "heatmap": [
           {
            "colorbar": {
             "outlinewidth": 0,
             "ticks": ""
            },
            "colorscale": [
             [
              0,
              "#0d0887"
             ],
             [
              0.1111111111111111,
              "#46039f"
             ],
             [
              0.2222222222222222,
              "#7201a8"
             ],
             [
              0.3333333333333333,
              "#9c179e"
             ],
             [
              0.4444444444444444,
              "#bd3786"
             ],
             [
              0.5555555555555556,
              "#d8576b"
             ],
             [
              0.6666666666666666,
              "#ed7953"
             ],
             [
              0.7777777777777778,
              "#fb9f3a"
             ],
             [
              0.8888888888888888,
              "#fdca26"
             ],
             [
              1,
              "#f0f921"
             ]
            ],
            "type": "heatmap"
           }
          ],
          "heatmapgl": [
           {
            "colorbar": {
             "outlinewidth": 0,
             "ticks": ""
            },
            "colorscale": [
             [
              0,
              "#0d0887"
             ],
             [
              0.1111111111111111,
              "#46039f"
             ],
             [
              0.2222222222222222,
              "#7201a8"
             ],
             [
              0.3333333333333333,
              "#9c179e"
             ],
             [
              0.4444444444444444,
              "#bd3786"
             ],
             [
              0.5555555555555556,
              "#d8576b"
             ],
             [
              0.6666666666666666,
              "#ed7953"
             ],
             [
              0.7777777777777778,
              "#fb9f3a"
             ],
             [
              0.8888888888888888,
              "#fdca26"
             ],
             [
              1,
              "#f0f921"
             ]
            ],
            "type": "heatmapgl"
           }
          ],
          "histogram": [
           {
            "marker": {
             "pattern": {
              "fillmode": "overlay",
              "size": 10,
              "solidity": 0.2
             }
            },
            "type": "histogram"
           }
          ],
          "histogram2d": [
           {
            "colorbar": {
             "outlinewidth": 0,
             "ticks": ""
            },
            "colorscale": [
             [
              0,
              "#0d0887"
             ],
             [
              0.1111111111111111,
              "#46039f"
             ],
             [
              0.2222222222222222,
              "#7201a8"
             ],
             [
              0.3333333333333333,
              "#9c179e"
             ],
             [
              0.4444444444444444,
              "#bd3786"
             ],
             [
              0.5555555555555556,
              "#d8576b"
             ],
             [
              0.6666666666666666,
              "#ed7953"
             ],
             [
              0.7777777777777778,
              "#fb9f3a"
             ],
             [
              0.8888888888888888,
              "#fdca26"
             ],
             [
              1,
              "#f0f921"
             ]
            ],
            "type": "histogram2d"
           }
          ],
          "histogram2dcontour": [
           {
            "colorbar": {
             "outlinewidth": 0,
             "ticks": ""
            },
            "colorscale": [
             [
              0,
              "#0d0887"
             ],
             [
              0.1111111111111111,
              "#46039f"
             ],
             [
              0.2222222222222222,
              "#7201a8"
             ],
             [
              0.3333333333333333,
              "#9c179e"
             ],
             [
              0.4444444444444444,
              "#bd3786"
             ],
             [
              0.5555555555555556,
              "#d8576b"
             ],
             [
              0.6666666666666666,
              "#ed7953"
             ],
             [
              0.7777777777777778,
              "#fb9f3a"
             ],
             [
              0.8888888888888888,
              "#fdca26"
             ],
             [
              1,
              "#f0f921"
             ]
            ],
            "type": "histogram2dcontour"
           }
          ],
          "mesh3d": [
           {
            "colorbar": {
             "outlinewidth": 0,
             "ticks": ""
            },
            "type": "mesh3d"
           }
          ],
          "parcoords": [
           {
            "line": {
             "colorbar": {
              "outlinewidth": 0,
              "ticks": ""
             }
            },
            "type": "parcoords"
           }
          ],
          "pie": [
           {
            "automargin": true,
            "type": "pie"
           }
          ],
          "scatter": [
           {
            "fillpattern": {
             "fillmode": "overlay",
             "size": 10,
             "solidity": 0.2
            },
            "type": "scatter"
           }
          ],
          "scatter3d": [
           {
            "line": {
             "colorbar": {
              "outlinewidth": 0,
              "ticks": ""
             }
            },
            "marker": {
             "colorbar": {
              "outlinewidth": 0,
              "ticks": ""
             }
            },
            "type": "scatter3d"
           }
          ],
          "scattercarpet": [
           {
            "marker": {
             "colorbar": {
              "outlinewidth": 0,
              "ticks": ""
             }
            },
            "type": "scattercarpet"
           }
          ],
          "scattergeo": [
           {
            "marker": {
             "colorbar": {
              "outlinewidth": 0,
              "ticks": ""
             }
            },
            "type": "scattergeo"
           }
          ],
          "scattergl": [
           {
            "marker": {
             "colorbar": {
              "outlinewidth": 0,
              "ticks": ""
             }
            },
            "type": "scattergl"
           }
          ],
          "scattermapbox": [
           {
            "marker": {
             "colorbar": {
              "outlinewidth": 0,
              "ticks": ""
             }
            },
            "type": "scattermapbox"
           }
          ],
          "scatterpolar": [
           {
            "marker": {
             "colorbar": {
              "outlinewidth": 0,
              "ticks": ""
             }
            },
            "type": "scatterpolar"
           }
          ],
          "scatterpolargl": [
           {
            "marker": {
             "colorbar": {
              "outlinewidth": 0,
              "ticks": ""
             }
            },
            "type": "scatterpolargl"
           }
          ],
          "scatterternary": [
           {
            "marker": {
             "colorbar": {
              "outlinewidth": 0,
              "ticks": ""
             }
            },
            "type": "scatterternary"
           }
          ],
          "surface": [
           {
            "colorbar": {
             "outlinewidth": 0,
             "ticks": ""
            },
            "colorscale": [
             [
              0,
              "#0d0887"
             ],
             [
              0.1111111111111111,
              "#46039f"
             ],
             [
              0.2222222222222222,
              "#7201a8"
             ],
             [
              0.3333333333333333,
              "#9c179e"
             ],
             [
              0.4444444444444444,
              "#bd3786"
             ],
             [
              0.5555555555555556,
              "#d8576b"
             ],
             [
              0.6666666666666666,
              "#ed7953"
             ],
             [
              0.7777777777777778,
              "#fb9f3a"
             ],
             [
              0.8888888888888888,
              "#fdca26"
             ],
             [
              1,
              "#f0f921"
             ]
            ],
            "type": "surface"
           }
          ],
          "table": [
           {
            "cells": {
             "fill": {
              "color": "#EBF0F8"
             },
             "line": {
              "color": "white"
             }
            },
            "header": {
             "fill": {
              "color": "#C8D4E3"
             },
             "line": {
              "color": "white"
             }
            },
            "type": "table"
           }
          ]
         },
         "layout": {
          "annotationdefaults": {
           "arrowcolor": "#2a3f5f",
           "arrowhead": 0,
           "arrowwidth": 1
          },
          "autotypenumbers": "strict",
          "coloraxis": {
           "colorbar": {
            "outlinewidth": 0,
            "ticks": ""
           }
          },
          "colorscale": {
           "diverging": [
            [
             0,
             "#8e0152"
            ],
            [
             0.1,
             "#c51b7d"
            ],
            [
             0.2,
             "#de77ae"
            ],
            [
             0.3,
             "#f1b6da"
            ],
            [
             0.4,
             "#fde0ef"
            ],
            [
             0.5,
             "#f7f7f7"
            ],
            [
             0.6,
             "#e6f5d0"
            ],
            [
             0.7,
             "#b8e186"
            ],
            [
             0.8,
             "#7fbc41"
            ],
            [
             0.9,
             "#4d9221"
            ],
            [
             1,
             "#276419"
            ]
           ],
           "sequential": [
            [
             0,
             "#0d0887"
            ],
            [
             0.1111111111111111,
             "#46039f"
            ],
            [
             0.2222222222222222,
             "#7201a8"
            ],
            [
             0.3333333333333333,
             "#9c179e"
            ],
            [
             0.4444444444444444,
             "#bd3786"
            ],
            [
             0.5555555555555556,
             "#d8576b"
            ],
            [
             0.6666666666666666,
             "#ed7953"
            ],
            [
             0.7777777777777778,
             "#fb9f3a"
            ],
            [
             0.8888888888888888,
             "#fdca26"
            ],
            [
             1,
             "#f0f921"
            ]
           ],
           "sequentialminus": [
            [
             0,
             "#0d0887"
            ],
            [
             0.1111111111111111,
             "#46039f"
            ],
            [
             0.2222222222222222,
             "#7201a8"
            ],
            [
             0.3333333333333333,
             "#9c179e"
            ],
            [
             0.4444444444444444,
             "#bd3786"
            ],
            [
             0.5555555555555556,
             "#d8576b"
            ],
            [
             0.6666666666666666,
             "#ed7953"
            ],
            [
             0.7777777777777778,
             "#fb9f3a"
            ],
            [
             0.8888888888888888,
             "#fdca26"
            ],
            [
             1,
             "#f0f921"
            ]
           ]
          },
          "colorway": [
           "#636efa",
           "#EF553B",
           "#00cc96",
           "#ab63fa",
           "#FFA15A",
           "#19d3f3",
           "#FF6692",
           "#B6E880",
           "#FF97FF",
           "#FECB52"
          ],
          "font": {
           "color": "#2a3f5f"
          },
          "geo": {
           "bgcolor": "white",
           "lakecolor": "white",
           "landcolor": "#E5ECF6",
           "showlakes": true,
           "showland": true,
           "subunitcolor": "white"
          },
          "hoverlabel": {
           "align": "left"
          },
          "hovermode": "closest",
          "mapbox": {
           "style": "light"
          },
          "paper_bgcolor": "white",
          "plot_bgcolor": "#E5ECF6",
          "polar": {
           "angularaxis": {
            "gridcolor": "white",
            "linecolor": "white",
            "ticks": ""
           },
           "bgcolor": "#E5ECF6",
           "radialaxis": {
            "gridcolor": "white",
            "linecolor": "white",
            "ticks": ""
           }
          },
          "scene": {
           "xaxis": {
            "backgroundcolor": "#E5ECF6",
            "gridcolor": "white",
            "gridwidth": 2,
            "linecolor": "white",
            "showbackground": true,
            "ticks": "",
            "zerolinecolor": "white"
           },
           "yaxis": {
            "backgroundcolor": "#E5ECF6",
            "gridcolor": "white",
            "gridwidth": 2,
            "linecolor": "white",
            "showbackground": true,
            "ticks": "",
            "zerolinecolor": "white"
           },
           "zaxis": {
            "backgroundcolor": "#E5ECF6",
            "gridcolor": "white",
            "gridwidth": 2,
            "linecolor": "white",
            "showbackground": true,
            "ticks": "",
            "zerolinecolor": "white"
           }
          },
          "shapedefaults": {
           "line": {
            "color": "#2a3f5f"
           }
          },
          "ternary": {
           "aaxis": {
            "gridcolor": "white",
            "linecolor": "white",
            "ticks": ""
           },
           "baxis": {
            "gridcolor": "white",
            "linecolor": "white",
            "ticks": ""
           },
           "bgcolor": "#E5ECF6",
           "caxis": {
            "gridcolor": "white",
            "linecolor": "white",
            "ticks": ""
           }
          },
          "title": {
           "x": 0.05
          },
          "xaxis": {
           "automargin": true,
           "gridcolor": "white",
           "linecolor": "white",
           "ticks": "",
           "title": {
            "standoff": 15
           },
           "zerolinecolor": "white",
           "zerolinewidth": 2
          },
          "yaxis": {
           "automargin": true,
           "gridcolor": "white",
           "linecolor": "white",
           "ticks": "",
           "title": {
            "standoff": 15
           },
           "zerolinecolor": "white",
           "zerolinewidth": 2
          }
         }
        },
        "title": {
         "text": "Brute Search QPS for 1,000,000 vectors (16 dim)"
        },
        "xaxis": {
         "anchor": "y",
         "categoryarray": [
          "c6a.8xlarge",
          "c4.4xlarge",
          "c7g.8xlarge",
          "c6g.8xlarge",
          "c6i.8xlarge",
          "c6i.4xlarge",
          "c5.4xlarge"
         ],
         "categoryorder": "total descending",
         "domain": [
          0,
          1
         ],
         "title": {
          "text": "Instance Type"
         }
        },
        "yaxis": {
         "anchor": "x",
         "domain": [
          0,
          1
         ],
         "title": {
          "text": "Brute Search Time (queries p/second)"
         }
        }
       }
      }
     },
     "metadata": {},
     "output_type": "display_data"
    }
   ],
   "source": [
    "plotTitle = \"Brute Search QPS for {:n} vectors ({} dim)\".format(Decimal(int(bench[\"Size\"][0])), bench[\"Dim\"][0], bench[\"M\"][0])\n",
    "plotLables={\n",
    "    \"bruteqps\": \"Brute Search Time (queries p/second)\",\n",
    "    \"instance\": \"Instance Type\",\n",
    "}\n",
    "\n",
    "\n",
    "fig = plx.bar(bench.query(\"EfSearch == 10\"), x=\"instance\", y=\"bruteqps\", color=\"instance\", title=plotTitle, labels=plotLables)\n",
    "fig.update_xaxes(categoryorder='total descending')\n",
    "\n",
    "fig.write_image(\"brute_search_all_instances.png\", scale=4)\n",
    "fig.write_html(\"brute_search_all_instances.html\")\n",
    "fig.show()"
   ]
  },
  {
   "cell_type": "code",
   "execution_count": 18,
   "metadata": {},
   "outputs": [
    {
     "data": {
      "application/vnd.plotly.v1+json": {
       "config": {
        "plotlyServerURL": "https://plot.ly"
       },
       "data": [
        {
         "hovertemplate": "Instance=c6a.8xlarge<br>HNSW Precision (%)=%{x}<br>Speedup over Brute search (x times)=%{y}<extra></extra>",
         "legendgroup": "c6a.8xlarge",
         "line": {
          "color": "#636efa",
          "dash": "solid"
         },
         "marker": {
          "symbol": "circle"
         },
         "mode": "lines",
         "name": "c6a.8xlarge",
         "orientation": "v",
         "showlegend": true,
         "type": "scatter",
         "x": [
          0.784165,
          0.86987,
          0.91032,
          0.935985,
          0.953099,
          0.964967,
          0.973412,
          0.979476,
          0.98388,
          0.987207,
          0.989684,
          0.991596,
          0.993098,
          0.994266,
          0.995196,
          0.995944,
          0.996552,
          0.997043,
          0.997442,
          0.997773
         ],
         "xaxis": "x",
         "y": [
          56.114292963240494,
          58.19799635345728,
          56.500266364643636,
          49.86398725673097,
          46.65018181742668,
          42.607747462524664,
          38.27540856902138,
          36.27099193364588,
          33.9695375068383,
          32.05993655797682,
          30.272501093347138,
          28.620652246259166,
          26.830927864518443,
          26.111857276407292,
          24.995822058578394,
          24.023718546107425,
          23.07202788340187,
          22.24554008953576,
          21.415412494848624,
          20.711465180017058
         ],
         "yaxis": "y"
        },
        {
         "hovertemplate": "Instance=c4.4xlarge<br>HNSW Precision (%)=%{x}<br>Speedup over Brute search (x times)=%{y}<extra></extra>",
         "legendgroup": "c4.4xlarge",
         "line": {
          "color": "#EF553B",
          "dash": "solid"
         },
         "marker": {
          "symbol": "circle"
         },
         "mode": "lines",
         "name": "c4.4xlarge",
         "orientation": "v",
         "showlegend": true,
         "type": "scatter",
         "x": [
          0.792901,
          0.870283,
          0.910393,
          0.936052,
          0.953342,
          0.965207,
          0.973565,
          0.979554,
          0.983959,
          0.987273,
          0.989749,
          0.991645,
          0.993136,
          0.994306,
          0.995226,
          0.995946,
          0.99653,
          0.997014,
          0.997416,
          0.997754
         ],
         "xaxis": "x",
         "y": [
          61.771388718827204,
          60.259020737484285,
          54.21160905434122,
          46.80644375668792,
          43.815562614308796,
          40.3307379822235,
          35.871946212962776,
          34.39898456428064,
          32.28780920915332,
          30.362894238287183,
          28.645003759450425,
          27.192022513325306,
          25.31813106952506,
          24.925054703032313,
          23.877726664751254,
          22.88341255109453,
          21.92111924755992,
          21.123819070189846,
          20.324195140003262,
          19.59824518003175
         ],
         "yaxis": "y"
        },
        {
         "hovertemplate": "Instance=c7g.8xlarge<br>HNSW Precision (%)=%{x}<br>Speedup over Brute search (x times)=%{y}<extra></extra>",
         "legendgroup": "c7g.8xlarge",
         "line": {
          "color": "#00cc96",
          "dash": "solid"
         },
         "marker": {
          "symbol": "circle"
         },
         "mode": "lines",
         "name": "c7g.8xlarge",
         "orientation": "v",
         "showlegend": true,
         "type": "scatter",
         "x": [
          0.794142,
          0.870645,
          0.910593,
          0.936175,
          0.95335,
          0.96521,
          0.973585,
          0.979614,
          0.984011,
          0.98729,
          0.98976,
          0.991642,
          0.993139,
          0.994287,
          0.995206,
          0.995958,
          0.99656,
          0.997042,
          0.997451,
          0.997783
         ],
         "xaxis": "x",
         "y": [
          25.168173850427326,
          24.699524766840472,
          25.084816958229762,
          26.349947805892352,
          25.426070516060594,
          23.603149097285684,
          21.759950354304884,
          20.0676322492748,
          18.67574589914688,
          17.549109288252847,
          16.530637590920445,
          15.62153464058906,
          15.05742772301599,
          14.264404081929179,
          13.601868524233703,
          13.049902443442916,
          12.479297735869379,
          11.965840359349821,
          11.471343566271322,
          11.057416124214328
         ],
         "yaxis": "y"
        },
        {
         "hovertemplate": "Instance=c6g.8xlarge<br>HNSW Precision (%)=%{x}<br>Speedup over Brute search (x times)=%{y}<extra></extra>",
         "legendgroup": "c6g.8xlarge",
         "line": {
          "color": "#ab63fa",
          "dash": "solid"
         },
         "marker": {
          "symbol": "circle"
         },
         "mode": "lines",
         "name": "c6g.8xlarge",
         "orientation": "v",
         "showlegend": true,
         "type": "scatter",
         "x": [
          0.780765,
          0.870032,
          0.910411,
          0.936024,
          0.9532,
          0.965076,
          0.973454,
          0.979499,
          0.983921,
          0.987234,
          0.989714,
          0.991632,
          0.993122,
          0.994277,
          0.99521,
          0.99595,
          0.996549,
          0.997036,
          0.997427,
          0.997747
         ],
         "xaxis": "x",
         "y": [
          36.45106338754714,
          34.858071661321944,
          33.75773331611291,
          35.593506247429104,
          34.432116269875294,
          32.77418427593187,
          30.526618387398674,
          28.191980168268437,
          26.28863621232765,
          24.626431155673867,
          23.24738653169605,
          22.053489329824984,
          21.09984910888988,
          20.15184923556762,
          19.221296738489837,
          18.430747562958086,
          17.74359310245475,
          16.991419870362147,
          16.412323867662305,
          15.815047503797059
         ],
         "yaxis": "y"
        },
        {
         "hovertemplate": "Instance=c6i.8xlarge<br>HNSW Precision (%)=%{x}<br>Speedup over Brute search (x times)=%{y}<extra></extra>",
         "legendgroup": "c6i.8xlarge",
         "line": {
          "color": "#FFA15A",
          "dash": "solid"
         },
         "marker": {
          "symbol": "circle"
         },
         "mode": "lines",
         "name": "c6i.8xlarge",
         "orientation": "v",
         "showlegend": true,
         "type": "scatter",
         "x": [
          0.790255,
          0.87007,
          0.910234,
          0.935945,
          0.953179,
          0.965088,
          0.973477,
          0.979562,
          0.983946,
          0.987237,
          0.989723,
          0.991625,
          0.993102,
          0.994273,
          0.995202,
          0.995939,
          0.996542,
          0.997031,
          0.997441,
          0.997783
         ],
         "xaxis": "x",
         "y": [
          53.47228503895603,
          53.73711858414246,
          51.293791253297826,
          45.992469058313645,
          44.4859286618914,
          41.17650071064996,
          36.587379583034426,
          35.35704966519505,
          33.03412069574987,
          31.11739808766958,
          29.453906112863663,
          27.997557112733354,
          25.926862958876942,
          25.516791092351525,
          24.50346286051867,
          23.41940094619376,
          22.500010886043754,
          21.66018529012111,
          20.985992329540966,
          20.159074016889324
         ],
         "yaxis": "y"
        },
        {
         "hovertemplate": "Instance=c6i.4xlarge<br>HNSW Precision (%)=%{x}<br>Speedup over Brute search (x times)=%{y}<extra></extra>",
         "legendgroup": "c6i.4xlarge",
         "line": {
          "color": "#19d3f3",
          "dash": "solid"
         },
         "marker": {
          "symbol": "circle"
         },
         "mode": "lines",
         "name": "c6i.4xlarge",
         "orientation": "v",
         "showlegend": true,
         "type": "scatter",
         "x": [
          0.792257,
          0.870501,
          0.910666,
          0.936134,
          0.953351,
          0.965256,
          0.973624,
          0.979647,
          0.984038,
          0.987314,
          0.989757,
          0.991644,
          0.993147,
          0.994305,
          0.995224,
          0.995956,
          0.996565,
          0.997052,
          0.997456,
          0.997797
         ],
         "xaxis": "x",
         "y": [
          82.6480481840714,
          73.22527105210708,
          63.96883714856811,
          55.33450171612029,
          50.63465370583938,
          46.147529253928916,
          41.75946576348266,
          38.90970467074366,
          36.45349954238594,
          33.92289387464544,
          32.197349488050456,
          30.051529764218305,
          28.815483208962597,
          27.307981027948863,
          26.067089874454417,
          24.919442920634314,
          23.771624578201823,
          23.14520434563065,
          22.302928772219182,
          21.546157849574524
         ],
         "yaxis": "y"
        },
        {
         "hovertemplate": "Instance=c5.4xlarge<br>HNSW Precision (%)=%{x}<br>Speedup over Brute search (x times)=%{y}<extra></extra>",
         "legendgroup": "c5.4xlarge",
         "line": {
          "color": "#FF6692",
          "dash": "solid"
         },
         "marker": {
          "symbol": "circle"
         },
         "mode": "lines",
         "name": "c5.4xlarge",
         "orientation": "v",
         "showlegend": true,
         "type": "scatter",
         "x": [
          0.793251,
          0.870127,
          0.910262,
          0.935936,
          0.953112,
          0.96496,
          0.973312,
          0.979343,
          0.983815,
          0.987127,
          0.98963,
          0.991546,
          0.993046,
          0.994223,
          0.995143,
          0.995899,
          0.996506,
          0.996996,
          0.997406,
          0.997737
         ],
         "xaxis": "x",
         "y": [
          68.74124438091293,
          60.74055622350853,
          53.6577451309419,
          47.101101965456316,
          43.161582942689655,
          39.491809785451885,
          36.31560432655409,
          33.9676880363374,
          31.652356827168774,
          29.79303542495952,
          28.18327266657412,
          26.52851643857511,
          25.42294840946028,
          24.48554814944298,
          23.202633347433288,
          22.190758121720474,
          21.382135127309216,
          20.617626532636876,
          19.799993708330806,
          19.162651142804297
         ],
         "yaxis": "y"
        }
       ],
       "layout": {
        "legend": {
         "title": {
          "text": "Instance"
         },
         "tracegroupgap": 0
        },
        "template": {
         "data": {
          "bar": [
           {
            "error_x": {
             "color": "#2a3f5f"
            },
            "error_y": {
             "color": "#2a3f5f"
            },
            "marker": {
             "line": {
              "color": "#E5ECF6",
              "width": 0.5
             },
             "pattern": {
              "fillmode": "overlay",
              "size": 10,
              "solidity": 0.2
             }
            },
            "type": "bar"
           }
          ],
          "barpolar": [
           {
            "marker": {
             "line": {
              "color": "#E5ECF6",
              "width": 0.5
             },
             "pattern": {
              "fillmode": "overlay",
              "size": 10,
              "solidity": 0.2
             }
            },
            "type": "barpolar"
           }
          ],
          "carpet": [
           {
            "aaxis": {
             "endlinecolor": "#2a3f5f",
             "gridcolor": "white",
             "linecolor": "white",
             "minorgridcolor": "white",
             "startlinecolor": "#2a3f5f"
            },
            "baxis": {
             "endlinecolor": "#2a3f5f",
             "gridcolor": "white",
             "linecolor": "white",
             "minorgridcolor": "white",
             "startlinecolor": "#2a3f5f"
            },
            "type": "carpet"
           }
          ],
          "choropleth": [
           {
            "colorbar": {
             "outlinewidth": 0,
             "ticks": ""
            },
            "type": "choropleth"
           }
          ],
          "contour": [
           {
            "colorbar": {
             "outlinewidth": 0,
             "ticks": ""
            },
            "colorscale": [
             [
              0,
              "#0d0887"
             ],
             [
              0.1111111111111111,
              "#46039f"
             ],
             [
              0.2222222222222222,
              "#7201a8"
             ],
             [
              0.3333333333333333,
              "#9c179e"
             ],
             [
              0.4444444444444444,
              "#bd3786"
             ],
             [
              0.5555555555555556,
              "#d8576b"
             ],
             [
              0.6666666666666666,
              "#ed7953"
             ],
             [
              0.7777777777777778,
              "#fb9f3a"
             ],
             [
              0.8888888888888888,
              "#fdca26"
             ],
             [
              1,
              "#f0f921"
             ]
            ],
            "type": "contour"
           }
          ],
          "contourcarpet": [
           {
            "colorbar": {
             "outlinewidth": 0,
             "ticks": ""
            },
            "type": "contourcarpet"
           }
          ],
          "heatmap": [
           {
            "colorbar": {
             "outlinewidth": 0,
             "ticks": ""
            },
            "colorscale": [
             [
              0,
              "#0d0887"
             ],
             [
              0.1111111111111111,
              "#46039f"
             ],
             [
              0.2222222222222222,
              "#7201a8"
             ],
             [
              0.3333333333333333,
              "#9c179e"
             ],
             [
              0.4444444444444444,
              "#bd3786"
             ],
             [
              0.5555555555555556,
              "#d8576b"
             ],
             [
              0.6666666666666666,
              "#ed7953"
             ],
             [
              0.7777777777777778,
              "#fb9f3a"
             ],
             [
              0.8888888888888888,
              "#fdca26"
             ],
             [
              1,
              "#f0f921"
             ]
            ],
            "type": "heatmap"
           }
          ],
          "heatmapgl": [
           {
            "colorbar": {
             "outlinewidth": 0,
             "ticks": ""
            },
            "colorscale": [
             [
              0,
              "#0d0887"
             ],
             [
              0.1111111111111111,
              "#46039f"
             ],
             [
              0.2222222222222222,
              "#7201a8"
             ],
             [
              0.3333333333333333,
              "#9c179e"
             ],
             [
              0.4444444444444444,
              "#bd3786"
             ],
             [
              0.5555555555555556,
              "#d8576b"
             ],
             [
              0.6666666666666666,
              "#ed7953"
             ],
             [
              0.7777777777777778,
              "#fb9f3a"
             ],
             [
              0.8888888888888888,
              "#fdca26"
             ],
             [
              1,
              "#f0f921"
             ]
            ],
            "type": "heatmapgl"
           }
          ],
          "histogram": [
           {
            "marker": {
             "pattern": {
              "fillmode": "overlay",
              "size": 10,
              "solidity": 0.2
             }
            },
            "type": "histogram"
           }
          ],
          "histogram2d": [
           {
            "colorbar": {
             "outlinewidth": 0,
             "ticks": ""
            },
            "colorscale": [
             [
              0,
              "#0d0887"
             ],
             [
              0.1111111111111111,
              "#46039f"
             ],
             [
              0.2222222222222222,
              "#7201a8"
             ],
             [
              0.3333333333333333,
              "#9c179e"
             ],
             [
              0.4444444444444444,
              "#bd3786"
             ],
             [
              0.5555555555555556,
              "#d8576b"
             ],
             [
              0.6666666666666666,
              "#ed7953"
             ],
             [
              0.7777777777777778,
              "#fb9f3a"
             ],
             [
              0.8888888888888888,
              "#fdca26"
             ],
             [
              1,
              "#f0f921"
             ]
            ],
            "type": "histogram2d"
           }
          ],
          "histogram2dcontour": [
           {
            "colorbar": {
             "outlinewidth": 0,
             "ticks": ""
            },
            "colorscale": [
             [
              0,
              "#0d0887"
             ],
             [
              0.1111111111111111,
              "#46039f"
             ],
             [
              0.2222222222222222,
              "#7201a8"
             ],
             [
              0.3333333333333333,
              "#9c179e"
             ],
             [
              0.4444444444444444,
              "#bd3786"
             ],
             [
              0.5555555555555556,
              "#d8576b"
             ],
             [
              0.6666666666666666,
              "#ed7953"
             ],
             [
              0.7777777777777778,
              "#fb9f3a"
             ],
             [
              0.8888888888888888,
              "#fdca26"
             ],
             [
              1,
              "#f0f921"
             ]
            ],
            "type": "histogram2dcontour"
           }
          ],
          "mesh3d": [
           {
            "colorbar": {
             "outlinewidth": 0,
             "ticks": ""
            },
            "type": "mesh3d"
           }
          ],
          "parcoords": [
           {
            "line": {
             "colorbar": {
              "outlinewidth": 0,
              "ticks": ""
             }
            },
            "type": "parcoords"
           }
          ],
          "pie": [
           {
            "automargin": true,
            "type": "pie"
           }
          ],
          "scatter": [
           {
            "fillpattern": {
             "fillmode": "overlay",
             "size": 10,
             "solidity": 0.2
            },
            "type": "scatter"
           }
          ],
          "scatter3d": [
           {
            "line": {
             "colorbar": {
              "outlinewidth": 0,
              "ticks": ""
             }
            },
            "marker": {
             "colorbar": {
              "outlinewidth": 0,
              "ticks": ""
             }
            },
            "type": "scatter3d"
           }
          ],
          "scattercarpet": [
           {
            "marker": {
             "colorbar": {
              "outlinewidth": 0,
              "ticks": ""
             }
            },
            "type": "scattercarpet"
           }
          ],
          "scattergeo": [
           {
            "marker": {
             "colorbar": {
              "outlinewidth": 0,
              "ticks": ""
             }
            },
            "type": "scattergeo"
           }
          ],
          "scattergl": [
           {
            "marker": {
             "colorbar": {
              "outlinewidth": 0,
              "ticks": ""
             }
            },
            "type": "scattergl"
           }
          ],
          "scattermapbox": [
           {
            "marker": {
             "colorbar": {
              "outlinewidth": 0,
              "ticks": ""
             }
            },
            "type": "scattermapbox"
           }
          ],
          "scatterpolar": [
           {
            "marker": {
             "colorbar": {
              "outlinewidth": 0,
              "ticks": ""
             }
            },
            "type": "scatterpolar"
           }
          ],
          "scatterpolargl": [
           {
            "marker": {
             "colorbar": {
              "outlinewidth": 0,
              "ticks": ""
             }
            },
            "type": "scatterpolargl"
           }
          ],
          "scatterternary": [
           {
            "marker": {
             "colorbar": {
              "outlinewidth": 0,
              "ticks": ""
             }
            },
            "type": "scatterternary"
           }
          ],
          "surface": [
           {
            "colorbar": {
             "outlinewidth": 0,
             "ticks": ""
            },
            "colorscale": [
             [
              0,
              "#0d0887"
             ],
             [
              0.1111111111111111,
              "#46039f"
             ],
             [
              0.2222222222222222,
              "#7201a8"
             ],
             [
              0.3333333333333333,
              "#9c179e"
             ],
             [
              0.4444444444444444,
              "#bd3786"
             ],
             [
              0.5555555555555556,
              "#d8576b"
             ],
             [
              0.6666666666666666,
              "#ed7953"
             ],
             [
              0.7777777777777778,
              "#fb9f3a"
             ],
             [
              0.8888888888888888,
              "#fdca26"
             ],
             [
              1,
              "#f0f921"
             ]
            ],
            "type": "surface"
           }
          ],
          "table": [
           {
            "cells": {
             "fill": {
              "color": "#EBF0F8"
             },
             "line": {
              "color": "white"
             }
            },
            "header": {
             "fill": {
              "color": "#C8D4E3"
             },
             "line": {
              "color": "white"
             }
            },
            "type": "table"
           }
          ]
         },
         "layout": {
          "annotationdefaults": {
           "arrowcolor": "#2a3f5f",
           "arrowhead": 0,
           "arrowwidth": 1
          },
          "autotypenumbers": "strict",
          "coloraxis": {
           "colorbar": {
            "outlinewidth": 0,
            "ticks": ""
           }
          },
          "colorscale": {
           "diverging": [
            [
             0,
             "#8e0152"
            ],
            [
             0.1,
             "#c51b7d"
            ],
            [
             0.2,
             "#de77ae"
            ],
            [
             0.3,
             "#f1b6da"
            ],
            [
             0.4,
             "#fde0ef"
            ],
            [
             0.5,
             "#f7f7f7"
            ],
            [
             0.6,
             "#e6f5d0"
            ],
            [
             0.7,
             "#b8e186"
            ],
            [
             0.8,
             "#7fbc41"
            ],
            [
             0.9,
             "#4d9221"
            ],
            [
             1,
             "#276419"
            ]
           ],
           "sequential": [
            [
             0,
             "#0d0887"
            ],
            [
             0.1111111111111111,
             "#46039f"
            ],
            [
             0.2222222222222222,
             "#7201a8"
            ],
            [
             0.3333333333333333,
             "#9c179e"
            ],
            [
             0.4444444444444444,
             "#bd3786"
            ],
            [
             0.5555555555555556,
             "#d8576b"
            ],
            [
             0.6666666666666666,
             "#ed7953"
            ],
            [
             0.7777777777777778,
             "#fb9f3a"
            ],
            [
             0.8888888888888888,
             "#fdca26"
            ],
            [
             1,
             "#f0f921"
            ]
           ],
           "sequentialminus": [
            [
             0,
             "#0d0887"
            ],
            [
             0.1111111111111111,
             "#46039f"
            ],
            [
             0.2222222222222222,
             "#7201a8"
            ],
            [
             0.3333333333333333,
             "#9c179e"
            ],
            [
             0.4444444444444444,
             "#bd3786"
            ],
            [
             0.5555555555555556,
             "#d8576b"
            ],
            [
             0.6666666666666666,
             "#ed7953"
            ],
            [
             0.7777777777777778,
             "#fb9f3a"
            ],
            [
             0.8888888888888888,
             "#fdca26"
            ],
            [
             1,
             "#f0f921"
            ]
           ]
          },
          "colorway": [
           "#636efa",
           "#EF553B",
           "#00cc96",
           "#ab63fa",
           "#FFA15A",
           "#19d3f3",
           "#FF6692",
           "#B6E880",
           "#FF97FF",
           "#FECB52"
          ],
          "font": {
           "color": "#2a3f5f"
          },
          "geo": {
           "bgcolor": "white",
           "lakecolor": "white",
           "landcolor": "#E5ECF6",
           "showlakes": true,
           "showland": true,
           "subunitcolor": "white"
          },
          "hoverlabel": {
           "align": "left"
          },
          "hovermode": "closest",
          "mapbox": {
           "style": "light"
          },
          "paper_bgcolor": "white",
          "plot_bgcolor": "#E5ECF6",
          "polar": {
           "angularaxis": {
            "gridcolor": "white",
            "linecolor": "white",
            "ticks": ""
           },
           "bgcolor": "#E5ECF6",
           "radialaxis": {
            "gridcolor": "white",
            "linecolor": "white",
            "ticks": ""
           }
          },
          "scene": {
           "xaxis": {
            "backgroundcolor": "#E5ECF6",
            "gridcolor": "white",
            "gridwidth": 2,
            "linecolor": "white",
            "showbackground": true,
            "ticks": "",
            "zerolinecolor": "white"
           },
           "yaxis": {
            "backgroundcolor": "#E5ECF6",
            "gridcolor": "white",
            "gridwidth": 2,
            "linecolor": "white",
            "showbackground": true,
            "ticks": "",
            "zerolinecolor": "white"
           },
           "zaxis": {
            "backgroundcolor": "#E5ECF6",
            "gridcolor": "white",
            "gridwidth": 2,
            "linecolor": "white",
            "showbackground": true,
            "ticks": "",
            "zerolinecolor": "white"
           }
          },
          "shapedefaults": {
           "line": {
            "color": "#2a3f5f"
           }
          },
          "ternary": {
           "aaxis": {
            "gridcolor": "white",
            "linecolor": "white",
            "ticks": ""
           },
           "baxis": {
            "gridcolor": "white",
            "linecolor": "white",
            "ticks": ""
           },
           "bgcolor": "#E5ECF6",
           "caxis": {
            "gridcolor": "white",
            "linecolor": "white",
            "ticks": ""
           }
          },
          "title": {
           "x": 0.05
          },
          "xaxis": {
           "automargin": true,
           "gridcolor": "white",
           "linecolor": "white",
           "ticks": "",
           "title": {
            "standoff": 15
           },
           "zerolinecolor": "white",
           "zerolinewidth": 2
          },
          "yaxis": {
           "automargin": true,
           "gridcolor": "white",
           "linecolor": "white",
           "ticks": "",
           "title": {
            "standoff": 15
           },
           "zerolinecolor": "white",
           "zerolinewidth": 2
          }
         }
        },
        "title": {
         "text": "HNSW vs Brute Search Speedup for 1,000,000 vectors (16 dim, M 16)"
        },
        "xaxis": {
         "anchor": "y",
         "categoryorder": "total descending",
         "domain": [
          0,
          1
         ],
         "title": {
          "text": "HNSW Precision (%)"
         }
        },
        "yaxis": {
         "anchor": "x",
         "domain": [
          0,
          1
         ],
         "title": {
          "text": "Speedup over Brute search (x times)"
         }
        }
       }
      }
     },
     "metadata": {},
     "output_type": "display_data"
    }
   ],
   "source": [
    "plotTitle = \"HNSW vs Brute Search Speedup for {:n} vectors ({} dim, M {})\".format(Decimal(int(bench[\"Size\"][0])), bench[\"Dim\"][0], bench[\"M\"][0])\n",
    "plotLables={\n",
    "    \"hnswvsbrutesearch\": \"Speedup over Brute search (x times)\",\n",
    "    \"HNSWPrecision\": \"HNSW Precision (%)\",\n",
    "    \"instance\": \"Instance\",\n",
    "}\n",
    "\n",
    "fig = plx.line(bench, x=\"HNSWPrecision\", y=\"hnswvsbrutesearch\", color=\"instance\", title=plotTitle, labels=plotLables)\n",
    "\n",
    "fig.update_xaxes(categoryorder='total descending')\n",
    "\n",
    "fig.write_image(\"hnsw_vs_brute_search_speedup.png\", scale=4)\n",
    "fig.write_html(\"hnsw_vs_brute_search_speedup.html\")\n",
    "fig.show()"
   ]
  },
  {
   "cell_type": "code",
   "execution_count": 9,
   "metadata": {},
   "outputs": [],
   "source": [
    "# TODO: Compare costs between each instance for price/performance ratio\n",
    "#import boto3\n",
    "#import json\n",
    "#import pprint\n",
    "\n",
    "#pricing = boto3.client('pricing', region_name='us-east-1')\n",
    "\n",
    "#ec2_price = {}\n",
    "#boto3.client('sts').get_caller_identity().get('Account')\n",
    "\n",
    "#for inst in bench[\"instance\"].unique():\n",
    "\n",
    "#    response = pricing.get_products(\n",
    "#        ServiceCode='AmazonEC2',\n",
    "#        Filters = [\n",
    "#            {'Type' :'TERM_MATCH', 'Field':'instanceType', 'Value':inst},\n",
    "#            {'Type' :'TERM_MATCH', 'Field':'operatingSystem', 'Value':'Linux'},\n",
    "#            { 'Type': 'TERM_MATCH', 'Field': 'capacitystatus', 'Value': 'Used' },\n",
    "#            { 'Type': 'TERM_MATCH', 'Field': 'preInstalledSw', 'Value': 'NA' },\n",
    "#            { 'Type': 'TERM_MATCH', 'Field': 'tenancy', 'Value': 'shared' },\n",
    "#            {'Type' :'TERM_MATCH', 'Field':'regionCode',        'Value':'us-east-1'}\n",
    "#        ],\n",
    "#        MaxResults=1\n",
    "#    )\n",
    "\n",
    "#    ec2_price[inst] = json.loads(response['PriceList'][0])"
   ]
  },
  {
   "cell_type": "code",
   "execution_count": 10,
   "metadata": {},
   "outputs": [],
   "source": [
    "#ec2_per_hour = {}\n",
    "\n",
    "#for inst in bench[\"instance\"].unique():\n",
    "#    for price in ec2_price[inst][\"terms\"][\"OnDemand\"]:\n",
    "#        for dim in ec2_price[inst][\"terms\"][\"OnDemand\"][price][\"priceDimensions\"]:\n",
    "#            print(inst, ec2_price[inst][\"terms\"][\"OnDemand\"][price][\"priceDimensions\"][dim][\"pricePerUnit\"][\"USD\"])\n",
    "#            ec2_per_hour[inst] = ec2_price[inst][\"terms\"][\"OnDemand\"][price][\"priceDimensions\"][dim][\"pricePerUnit\"][\"USD\"]\n"
   ]
  },
  {
   "cell_type": "code",
   "execution_count": 11,
   "metadata": {},
   "outputs": [],
   "source": [
    "#bench[\"ec2perhour\"] = bench.apply(lambda row: (float(ec2_per_hour[row[\"instance\"]])), axis=1)\n",
    "#bench[\"cost\"] = bench.apply(lambda row: ( ((float(row[\"HNSWSearchSecs\"])*60)/bench[\"ec2perhour\"])), axis=1)"
   ]
  },
  {
   "cell_type": "code",
   "execution_count": 12,
   "metadata": {},
   "outputs": [],
   "source": [
    "#bench.head(5)"
   ]
  },
  {
   "cell_type": "code",
   "execution_count": 13,
   "metadata": {},
   "outputs": [],
   "source": [
    "#plotTitle = \"Cost for QPS for {:n} vectors ({} dim)\".format(Decimal(int(bench[\"Size\"][0])), bench[\"Dim\"][0], bench[\"M\"][0])\n",
    "#plotLables={\n",
    "#    \"bruteqps\": \"Brute Search Time (queries p/second)\",\n",
    "#    \"instance\": \"Instance Type\",\n",
    "#}\n",
    "\n",
    "#fig = plx.bar(bench.query(\"EfSearch == 100\"), x=\"instance\", y=\"ec2perhour\", color=\"instance\", title=plotTitle, labels=plotLables)\n",
    "#fig.update_xaxes(categoryorder='total descending')\n",
    "\n",
    "#fig.write_image(filename.replace(\".csv\", \".png\"), scale=4)\n",
    "#fig.write_html(filename.replace(\".csv\", \".html\"))\n",
    "#fig.show()"
   ]
  },
  {
   "cell_type": "code",
   "execution_count": 14,
   "metadata": {},
   "outputs": [],
   "source": [
    "#ops_pv = bench.pivot_table(index = 'instance', columns='ec2perhour', values='cost')"
   ]
  },
  {
   "cell_type": "code",
   "execution_count": 15,
   "metadata": {},
   "outputs": [],
   "source": [
    "#ops_pv"
   ]
  }
 ],
 "metadata": {
  "kernelspec": {
   "display_name": "Python 3",
   "language": "python",
   "name": "python3"
  },
  "language_info": {
   "codemirror_mode": {
    "name": "ipython",
    "version": 3
   },
   "file_extension": ".py",
   "mimetype": "text/x-python",
   "name": "python",
   "nbconvert_exporter": "python",
   "pygments_lexer": "ipython3",
   "version": "3.8.2"
  },
  "orig_nbformat": 4
 },
 "nbformat": 4,
 "nbformat_minor": 2
}
